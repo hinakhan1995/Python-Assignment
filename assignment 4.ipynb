{
 "cells": [
  {
   "cell_type": "code",
   "execution_count": null,
   "metadata": {},
   "outputs": [],
   "source": [
    "dic = {\"first_name\": \"hina\", \"last_name\": \"khan\", \"age\": 22, \"city\": \"karachi\"}\n",
    "print(dic)\n",
    "\n",
    "education[\"qualification\"] = \"High level academic\"\n",
    "print(education)\n",
    "\n",
    "del information[\"qualification\"]\n",
    "print(information) \n"
   ]
  },
  {
   "cell_type": "code",
   "execution_count": null,
   "metadata": {},
   "outputs": [],
   "source": [
    "Cities = {'Bangkok': {'Country': 'Thailand', 'Population':'8.281 million', 'Fact':'Famous for ornate shrines' }, 'Paris': {'Country': 'France', 'Population': '2.141 million', 'Fact':'Global center for art and Fashion' }, 'Kuala Lumpur':{'Country': 'Malaysia', 'Population': '1.808 million', 'Fact':'Home to British colonial-era landmarks'}}\n",
    "print(Cities)"
   ]
  },
  {
   "cell_type": "code",
   "execution_count": null,
   "metadata": {},
   "outputs": [],
   "source": []
  }
 ],
 "metadata": {
  "kernelspec": {
   "display_name": "Python 3",
   "language": "python",
   "name": "python3"
  },
  "language_info": {
   "codemirror_mode": {
    "name": "ipython",
    "version": 3
   },
   "file_extension": ".py",
   "mimetype": "text/x-python",
   "name": "python",
   "nbconvert_exporter": "python",
   "pygments_lexer": "ipython3",
   "version": "3.7.0"
  }
 },
 "nbformat": 4,
 "nbformat_minor": 2
}
