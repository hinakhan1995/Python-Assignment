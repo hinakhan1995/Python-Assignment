{
 "cells": [
  {
   "cell_type": "code",
   "execution_count": 2,
   "metadata": {},
   "outputs": [
    {
     "name": "stdout",
     "output_type": "stream",
     "text": [
      "Enter Marks for Math:70\n",
      "Enter Marks for English: 65\n",
      "Enter Marks for Chemistry: 74\n",
      "Enter Marks for Physics: 82\n",
      "Enter Marks for Urdu: 88\n",
      "Total Marks is  379\n",
      "Percentage is:  75.8\n"
     ]
    }
   ],
   "source": [
    "Math = input (\"Enter Marks for Math:\") \n",
    "English = input(\"Enter Marks for English: \")\n",
    "Chemistry = input(\"Enter Marks for Chemistry: \")\n",
    "Physics = input (\"Enter Marks for Physics: \")\n",
    "Urdu = input(\"Enter Marks for Urdu: \")\n",
    "\n",
    "Total =int(Math) + int(English) + int(Chemistry) + int(Physics) + int(Urdu)\n",
    "Percentage = (int(Total)) / (int(500)) * 100;\n",
    "\n",
    "print (\"Total Marks is \", Total)\n",
    "print (\"Percentage is: \", Percentage )"
   ]
  },
  {
   "cell_type": "code",
   "execution_count": 3,
   "metadata": {},
   "outputs": [
    {
     "name": "stdout",
     "output_type": "stream",
     "text": [
      "Enter the number: 5\n",
      "Given Number is Odd\n"
     ]
    }
   ],
   "source": [
    "Enter_No = input(\"Enter the number: \")\n",
    "Number = (int(Enter_No))%2\n",
    "if Number == 0:\n",
    "\n",
    "    print(\"Given Number is Even\")\n",
    "\n",
    "\n",
    "else:\n",
    "\n",
    "    print(\"Given Number is Odd\")"
   ]
  },
  {
   "cell_type": "code",
   "execution_count": 10,
   "metadata": {},
   "outputs": [
    {
     "name": "stdout",
     "output_type": "stream",
     "text": [
      "Number of items are:  4\n"
     ]
    }
   ],
   "source": [
    "list1 = []\n",
    "list1.append(\"My Name is Hina\")\n",
    "list1.append(\"Name\")\n",
    "list1.append(\"is\")\n",
    "list1.append(\"Hina\")\n",
    "\n",
    "print(\"Number of items are: \", len(list1))"
   ]
  },
  {
   "cell_type": "code",
   "execution_count": 11,
   "metadata": {},
   "outputs": [
    {
     "name": "stdout",
     "output_type": "stream",
     "text": [
      "190\n"
     ]
    }
   ],
   "source": [
    "List = [4, 33, 64, 89]\n",
    "sum1 = sum(List)\n",
    "print(sum1)"
   ]
  },
  {
   "cell_type": "code",
   "execution_count": 12,
   "metadata": {},
   "outputs": [
    {
     "name": "stdout",
     "output_type": "stream",
     "text": [
      "10\n"
     ]
    }
   ],
   "source": [
    "List = [2, 8, 10, 9, 3]\n",
    "print(max(List))"
   ]
  },
  {
   "cell_type": "code",
   "execution_count": 13,
   "metadata": {},
   "outputs": [
    {
     "name": "stdout",
     "output_type": "stream",
     "text": [
      "1\n",
      "1\n",
      "2\n",
      "3\n"
     ]
    }
   ],
   "source": [
    "List = [1,1,2,3,5,8,13,21,34,55,89]\n",
    "for x in List:\n",
    "    if(x < 5):\n",
    "        print(x)"
   ]
  },
  {
   "cell_type": "code",
   "execution_count": null,
   "metadata": {},
   "outputs": [],
   "source": []
  }
 ],
 "metadata": {
  "kernelspec": {
   "display_name": "Python 3",
   "language": "python",
   "name": "python3"
  },
  "language_info": {
   "codemirror_mode": {
    "name": "ipython",
    "version": 3
   },
   "file_extension": ".py",
   "mimetype": "text/x-python",
   "name": "python",
   "nbconvert_exporter": "python",
   "pygments_lexer": "ipython3",
   "version": "3.7.0"
  }
 },
 "nbformat": 4,
 "nbformat_minor": 2
}
