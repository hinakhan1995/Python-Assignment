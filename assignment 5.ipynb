{
 "cells": [
  {
   "cell_type": "code",
   "execution_count": 1,
   "metadata": {},
   "outputs": [
    {
     "name": "stdout",
     "output_type": "stream",
     "text": [
      "factorial of this no is : 6\n",
      "720\n"
     ]
    }
   ],
   "source": [
    "def factorial(i):\n",
    "    if i == 0:\n",
    "        return 1\n",
    "    else:\n",
    "        return i * factorial(i-1)\n",
    "i = int(input(\"factorial of this no is : \"))\n",
    "print(factorial(i))"
   ]
  },
  {
   "cell_type": "code",
   "execution_count": 5,
   "metadata": {},
   "outputs": [
    {
     "name": "stdout",
     "output_type": "stream",
     "text": [
      "Enter string : HinaKhan\n",
      "The number of lowercase characters is: HinaKhan\n",
      "6\n",
      "The number of uppercase characters is: HinaKhan\n",
      "2\n"
     ]
    }
   ],
   "source": [
    "string=input(\"Enter string : \")\n",
    "count1=0\n",
    "count2=0\n",
    "for i in string:\n",
    "      if(i.islower()):\n",
    "            count1=count1+1\n",
    "      elif(i.isupper()):\n",
    "            count2=count2+1\n",
    "print(\"The number of lowercase characters is:\" , string)\n",
    "print(count1)\n",
    "print(\"The number of uppercase characters is:\" , string)\n",
    "print(count2)"
   ]
  },
  {
   "cell_type": "code",
   "execution_count": 7,
   "metadata": {},
   "outputs": [
    {
     "name": "stdout",
     "output_type": "stream",
     "text": [
      "2\n",
      "4\n",
      "6\n",
      "8\n",
      "10\n"
     ]
    }
   ],
   "source": [
    "lis = [1 , 2, 3 , 4 , 5 , 6, 7 , 8 , 9 , 10]\n",
    "\n",
    "for num in lis:\n",
    "  if num % 2 == 0:\n",
    "        print(num)"
   ]
  },
  {
   "cell_type": "code",
   "execution_count": 2,
   "metadata": {},
   "outputs": [
    {
     "name": "stdout",
     "output_type": "stream",
     "text": [
      "enter the string : maham\n",
      "yes! it's Palindrome\n"
     ]
    }
   ],
   "source": [
    "mystring = input(\"enter the string : \")\n",
    "for i in range(len(mystring) // 2):\n",
    "    if mystring[i] != mystring[- 1 - i]:\n",
    "        print(\"Not Palindrome\")\n",
    "        break\n",
    "else:\n",
    "    print(\"yes! it's Palindrome\")"
   ]
  },
  {
   "cell_type": "code",
   "execution_count": 5,
   "metadata": {},
   "outputs": [
    {
     "name": "stdout",
     "output_type": "stream",
     "text": [
      "enter the number : 11\n",
      "it is a prime number 11\n"
     ]
    }
   ],
   "source": [
    "num = int(input(\"enter the number : \"))\n",
    "if num > 1: \n",
    "      \n",
    "   for i in range(2, num//2):\n",
    "       if (num % i) == 0: \n",
    "           print(\"it is not a prime number\" , num) \n",
    "           break\n",
    "   else: \n",
    "       print(\"it is a prime number\" , num) \n",
    "  \n",
    "else: \n",
    "   print(\"it is not a prime number\" , num) \n",
    "    \n",
    "    "
   ]
  },
  {
   "cell_type": "code",
   "execution_count": 1,
   "metadata": {},
   "outputs": [
    {
     "name": "stdout",
     "output_type": "stream",
     "text": [
      "Enter shopping items:clothes, shoes, bags\n",
      "items in shopping list are  clothes, shoes, bags\n"
     ]
    }
   ],
   "source": [
    "def shopping_list(*items):\n",
    "    for item in items:\n",
    "        print(\"items in shopping list are \", item)\n",
    "\n",
    "shoppinglist = input(\"Enter shopping items:\")\n",
    "shopping_list(shoppinglist)\n"
   ]
  },
  {
   "cell_type": "code",
   "execution_count": null,
   "metadata": {},
   "outputs": [],
   "source": []
  }
 ],
 "metadata": {
  "kernelspec": {
   "display_name": "Python 3",
   "language": "python",
   "name": "python3"
  },
  "language_info": {
   "codemirror_mode": {
    "name": "ipython",
    "version": 3
   },
   "file_extension": ".py",
   "mimetype": "text/x-python",
   "name": "python",
   "nbconvert_exporter": "python",
   "pygments_lexer": "ipython3",
   "version": "3.7.0"
  }
 },
 "nbformat": 4,
 "nbformat_minor": 2
}
