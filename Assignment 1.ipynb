{
 "cells": [
  {
   "cell_type": "code",
   "execution_count": 1,
   "metadata": {},
   "outputs": [
    {
     "name": "stdout",
     "output_type": "stream",
     "text": [
      "Twinkle, twinkle, little star,\n",
      "\tHow I wonder what you are!\n",
      "\t\tUp above the world so high,\n",
      "\t\tLike a diamond in the sky.\n",
      "Twinkle, twinkle, little star,\n",
      "\tHow I wonder what you are!\n"
     ]
    }
   ],
   "source": [
    "print(\"Twinkle, twinkle, little star,\\n\\tHow I wonder what you are!\\n\\t\\tUp above the world so high,\\n\\t\\tLike a diamond in the sky.\\nTwinkle, twinkle, little star,\\n\\tHow I wonder what you are!\")"
   ]
  },
  {
   "cell_type": "code",
   "execution_count": 2,
   "metadata": {},
   "outputs": [
    {
     "name": "stdout",
     "output_type": "stream",
     "text": [
      "system version\n",
      "3.7.0 (v3.7.0:1bf9cc5093, Jun 27 2018, 04:59:51) [MSC v.1914 64 bit (AMD64)]\n"
     ]
    }
   ],
   "source": [
    "import sys\n",
    "print(\"system version\")\n",
    "print(sys.version)"
   ]
  },
  {
   "cell_type": "code",
   "execution_count": 3,
   "metadata": {},
   "outputs": [
    {
     "name": "stdout",
     "output_type": "stream",
     "text": [
      "Date is 11-28-2019 and Time is 16:48:15\n"
     ]
    }
   ],
   "source": [
    "import datetime\n",
    "Current = datetime.datetime.now()\n",
    "\n",
    "print (Current.strftime(\"Date is \" \"%m-%d-%Y \" \"and Time is\" \" %H:%M:%S\"))"
   ]
  },
  {
   "cell_type": "code",
   "execution_count": 4,
   "metadata": {},
   "outputs": [
    {
     "name": "stdout",
     "output_type": "stream",
     "text": [
      "Enter the radius of a circle: 5\n",
      "Circle of radius is:  78.53975\n"
     ]
    }
   ],
   "source": [
    "radius = input(\"Enter the radius of a circle: \" )\n",
    "area = float(radius) * float(radius) * 3.14159\n",
    "print(\"Circle of radius is: \", area)"
   ]
  },
  {
   "cell_type": "code",
   "execution_count": 5,
   "metadata": {},
   "outputs": [
    {
     "name": "stdout",
     "output_type": "stream",
     "text": [
      "Enter your First Name: Hina Khan\n",
      "Enter your Last Name: Khan\n",
      "Khan   Hina Khan\n"
     ]
    }
   ],
   "source": [
    "FirstName = input(\"Enter your First Name: \")\n",
    "LastName = input(\"Enter your Last Name: \")\n",
    "\n",
    "print(LastName, \" \", FirstName )"
   ]
  },
  {
   "cell_type": "code",
   "execution_count": 6,
   "metadata": {},
   "outputs": [
    {
     "name": "stdout",
     "output_type": "stream",
     "text": [
      "Enter first number: 6\n",
      "ENter Secound number: 7\n",
      "Your answer is:  13\n"
     ]
    }
   ],
   "source": [
    "Num1 = input(\"Enter first number: \")\n",
    "Num2 = input(\"ENter Secound number: \")\n",
    "\n",
    "Num3 = int(Num1) + int(Num2)\n",
    "\n",
    "print(\"Your answer is: \", Num3)"
   ]
  },
  {
   "cell_type": "code",
   "execution_count": null,
   "metadata": {},
   "outputs": [],
   "source": []
  }
 ],
 "metadata": {
  "kernelspec": {
   "display_name": "Python 3",
   "language": "python",
   "name": "python3"
  },
  "language_info": {
   "codemirror_mode": {
    "name": "ipython",
    "version": 3
   },
   "file_extension": ".py",
   "mimetype": "text/x-python",
   "name": "python",
   "nbconvert_exporter": "python",
   "pygments_lexer": "ipython3",
   "version": "3.7.0"
  }
 },
 "nbformat": 4,
 "nbformat_minor": 2
}
