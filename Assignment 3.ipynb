{
 "cells": [
  {
   "cell_type": "code",
   "execution_count": 3,
   "metadata": {},
   "outputs": [
    {
     "name": "stdout",
     "output_type": "stream",
     "text": [
      "Enter Value 9\n",
      "Enter Value 7\n",
      "Choose the operator : \n",
      "1. Addition\n",
      "2. Subtraction\n",
      "3. Multiplication\n",
      "4. Division\n",
      "5. Power\n",
      "operator is: *\n",
      "Answer is:  63\n"
     ]
    }
   ],
   "source": [
    "Value1 = input (\"Enter Value \")\n",
    "Value2 = input (\"Enter Value \")\n",
    "print(\"Choose the operator : \")\n",
    "print(\"1. Addition\")\n",
    "print(\"2. Subtraction\")\n",
    "print(\"3. Multiplication\")\n",
    "print(\"4. Division\")\n",
    "print(\"5. Power\")\n",
    "operator = input(\"operator is: \")\n",
    "if Value1.isdigit() and Value2.isdigit():\n",
    "    if operator == \"+\":\n",
    "        Value = int(Value1) + int(Value2)\n",
    "        print(\"Answer is: \", Value)\n",
    "        \n",
    "    elif operator == \"-\":\n",
    "        Value = int(Value1) - int(Value2)\n",
    "        print(\"Answer is: \", Value)\n",
    "        \n",
    "    elif operator == \"*\":\n",
    "        Value = int(Value1) * int(Value2)\n",
    "        print(\"Answer is: \", Value)\n",
    "        \n",
    "    elif operator == \"/\":\n",
    "        Value = int(Value1) / int(Value2)\n",
    "        print(\"Answer is: \", Value)\n",
    "    \n",
    "    elif operator == \"**\":\n",
    "        Value = int(Value1) ** int(Value2)\n",
    "        print(\"Answer is: \", Value)\n",
    "    \n",
    "    else:\n",
    "        print (\"choose correct operator\")\n",
    "else:\n",
    "    print(\"Values should be Number\")"
   ]
  },
  {
   "cell_type": "code",
   "execution_count": 5,
   "metadata": {},
   "outputs": [
    {
     "name": "stdout",
     "output_type": "stream",
     "text": [
      "Numbers in the list are:  [13, 12, 6]\n"
     ]
    }
   ],
   "source": [
    "List = [13, 12 , \"Try\", \"Numeric\", 6, \"hina\"]\n",
    "Num=[]\n",
    "String=[]\n",
    "for L in range(0, len(List)):\n",
    "    if str(List[L]).isdigit():\n",
    "        Num.append(List[L])\n",
    "    else:\n",
    "       String.append(List[L])\n",
    "print(\"Numbers in the list are: \", Num)"
   ]
  },
  {
   "cell_type": "code",
   "execution_count": 6,
   "metadata": {},
   "outputs": [
    {
     "name": "stdout",
     "output_type": "stream",
     "text": [
      "{0: 2, 1: 4, 2: 6}\n",
      "{0: 2, 1: 4, 2: 6, 3: 9}\n"
     ]
    }
   ],
   "source": [
    "dic = {0:2, 1:4, 2:6}\n",
    "print(dic)\n",
    "dic.update({3:9})\n",
    "print(dic)"
   ]
  },
  {
   "cell_type": "code",
   "execution_count": 8,
   "metadata": {},
   "outputs": [
    {
     "name": "stdout",
     "output_type": "stream",
     "text": [
      "100\n"
     ]
    }
   ],
   "source": [
    "Dic1 = {0:10, 1:20, 2:30, 3:40}\n",
    "Sum = 0\n",
    "print(sum(Dic1.values()))"
   ]
  },
  {
   "cell_type": "code",
   "execution_count": 9,
   "metadata": {},
   "outputs": [
    {
     "name": "stdout",
     "output_type": "stream",
     "text": [
      "Hina\n"
     ]
    }
   ],
   "source": [
    "list = [\"Hina\", \"Aiman\", \"Hina\", \"Fatima\"]\n",
    "list.sort()\n",
    "for x in range(len (list) -1):\n",
    "     if list[x] == list[x+1]:\n",
    "        print (list[x])"
   ]
  },
  {
   "cell_type": "code",
   "execution_count": 10,
   "metadata": {},
   "outputs": [
    {
     "name": "stdout",
     "output_type": "stream",
     "text": [
      "Enter key to check:2\n",
      "Key is present and value of the key is:\n",
      "20\n"
     ]
    }
   ],
   "source": [
    "list={1:10, 2:20, 3:30, 4:40, 5:50}\n",
    "key=int(input(\"Enter key to check:\"))\n",
    "if key in list.keys():\n",
    "      print(\"Key is present and value of the key is:\")\n",
    "      print(list[key])\n",
    "else:\n",
    "      print(\"Key is not present!\")"
   ]
  },
  {
   "cell_type": "code",
   "execution_count": null,
   "metadata": {},
   "outputs": [],
   "source": []
  }
 ],
 "metadata": {
  "kernelspec": {
   "display_name": "Python 3",
   "language": "python",
   "name": "python3"
  },
  "language_info": {
   "codemirror_mode": {
    "name": "ipython",
    "version": 3
   },
   "file_extension": ".py",
   "mimetype": "text/x-python",
   "name": "python",
   "nbconvert_exporter": "python",
   "pygments_lexer": "ipython3",
   "version": "3.7.0"
  }
 },
 "nbformat": 4,
 "nbformat_minor": 2
}
