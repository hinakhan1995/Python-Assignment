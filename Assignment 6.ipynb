{
 "cells": [
  {
   "cell_type": "code",
   "execution_count": 2,
   "metadata": {},
   "outputs": [
    {
     "name": "stdout",
     "output_type": "stream",
     "text": [
      "Object-oriented programming (OOP) refers to a type of computer programming (software design) in which programmers define the data type of a data structure, and also the types of operations (functions) that can be applied to the data structure.In this way, the data structure becomes an object that includes both data and functions. In addition, programmers can create relationships between one object and another. For example, objects can inherit characteristics from other objects.\n"
     ]
    }
   ],
   "source": [
    "print(\"Object-oriented programming (OOP) refers to a type of computer programming (software design) in which programmers define the data type of a data structure, and also the types of operations (functions) that can be applied to the data structure.In this way, the data structure becomes an object that includes both data and functions. In addition, programmers can create relationships between one object and another. For example, objects can inherit characteristics from other objects.\")"
   ]
  },
  {
   "cell_type": "code",
   "execution_count": 5,
   "metadata": {},
   "outputs": [
    {
     "name": "stdout",
     "output_type": "stream",
     "text": [
      "Benefits Of OOP\n",
      "*Modularity for easier troubleshooting. Something has gone wrong, and you have no idea where to look.\n",
      "*Reuse of code through inheritance.\n",
      "*Flexibility through polymorphism.\n",
      "*Effective problem solving.\n"
     ]
    }
   ],
   "source": [
    "print(\"Benefits Of OOP\\n*Modularity for easier troubleshooting. Something has gone wrong, and you have no idea where to look.\\n*Reuse of code through inheritance.\\n*Flexibility through polymorphism.\\n*Effective problem solving.\")"
   ]
  },
  {
   "cell_type": "code",
   "execution_count": 14,
   "metadata": {},
   "outputs": [
    {
     "data": {
      "text/html": [
       "<table><tr><td>Function</td><td>A function is a piece of code that is called by name. It can be passed data to operate on and can optionally return data (the return value). All data that is passed to a function is explicitly passed.</td></th><th><td>Method</td><td>A method is a piece of code that is called by a name that is associated with an object.</td></tr></table>"
      ],
      "text/plain": [
       "<IPython.core.display.HTML object>"
      ]
     },
     "metadata": {},
     "output_type": "display_data"
    }
   ],
   "source": [
    "from IPython.display import HTML, display\n",
    "table = [[\"Function\",\"A function is a piece of code that is called by name. It can be passed data to operate on and can optionally return data (the return value). All data that is passed to a function is explicitly passed.\"],\n",
    "         [\"Method\",\"A method is a piece of code that is called by a name that is associated with an object.\"]]\n",
    "display(HTML(\n",
    "   '<table><tr>{}</tr></table>'.format(\n",
    "       '</th><th>'.join(\n",
    "           '<td>{}</td>'.format('</td><td>'.join(str(_) for _ in row)) for row in table)\n",
    "       )\n",
    "))"
   ]
  },
  {
   "cell_type": "code",
   "execution_count": 16,
   "metadata": {},
   "outputs": [
    {
     "name": "stdout",
     "output_type": "stream",
     "text": [
      "Class:\n",
      "It is a user defined data type, which holds its own data members and member functions, which can be accessed and used by creating an instance of that class\n",
      "Object:\n",
      "An object is an element (or instance) of a class; objects have the behaviors of their class.\n",
      "Attribute:\n",
      "An Attribute is a named property of a class. It has a type. It describes the range of values that that property may hold.\n",
      "Behavior:\n",
      "Determined by how the object acts or reacts to requests (messages) from other objects\n"
     ]
    }
   ],
   "source": [
    "print(\"Class:\\nIt is a user defined data type, which holds its own data members and member functions, which can be accessed and used by creating an instance of that class\")\n",
    "print(\"Object:\\nAn object is an element (or instance) of a class; objects have the behaviors of their class.\")\n",
    "print(\"Attribute:\\nAn Attribute is a named property of a class. It has a type. It describes the range of values that that property may hold.\")\n",
    "print(\"Behavior:\\nDetermined by how the object acts or reacts to requests (messages) from other objects\")"
   ]
  },
  {
   "cell_type": "code",
   "execution_count": 22,
   "metadata": {},
   "outputs": [
    {
     "name": "stdout",
     "output_type": "stream",
     "text": [
      "ferrari is 6 years old\n",
      "ferrari is Red\n"
     ]
    }
   ],
   "source": [
    "class car:\n",
    "\n",
    "    \n",
    "    def __init__(self, name, model):\n",
    "        self.name = name\n",
    "        self.model = model\n",
    "\n",
    "    # instance method\n",
    "    def description(self):\n",
    "        return \"{} is {} years old\".format(self.name, self.model)\n",
    "\n",
    "    # instance method\n",
    "    def col(self, color):\n",
    "        return \"{} is {}\".format(self.name, color)\n",
    "\n",
    "# Instantiate the Dog object\n",
    "ferrari = car(\"ferrari\", 6)\n",
    "\n",
    "# call our instance methods\n",
    "print(ferrari.description())\n",
    "print(ferrari.col(\"Red\"))\n",
    "    \n",
    "    "
   ]
  },
  {
   "cell_type": "code",
   "execution_count": null,
   "metadata": {},
   "outputs": [],
   "source": []
  }
 ],
 "metadata": {
  "kernelspec": {
   "display_name": "Python 3",
   "language": "python",
   "name": "python3"
  },
  "language_info": {
   "codemirror_mode": {
    "name": "ipython",
    "version": 3
   },
   "file_extension": ".py",
   "mimetype": "text/x-python",
   "name": "python",
   "nbconvert_exporter": "python",
   "pygments_lexer": "ipython3",
   "version": "3.7.0"
  }
 },
 "nbformat": 4,
 "nbformat_minor": 2
}
